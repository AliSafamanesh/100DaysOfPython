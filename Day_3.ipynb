{
  "nbformat": 4,
  "nbformat_minor": 0,
  "metadata": {
    "colab": {
      "provenance": [],
      "authorship_tag": "ABX9TyOjF6saxwuH8IqGOpKytnGH"
    },
    "kernelspec": {
      "name": "python3",
      "display_name": "Python 3"
    },
    "language_info": {
      "name": "python"
    }
  },
  "cells": [
    {
      "cell_type": "markdown",
      "source": [
        "#Day 3\n",
        "conditional Statements, Logical Operators, Code Blocks and Scope"
      ],
      "metadata": {
        "id": "xzL_5U0AeFr2"
      }
    },
    {
      "cell_type": "markdown",
      "source": [
        "#if/else"
      ],
      "metadata": {
        "id": "B7Hxfvgie7Nj"
      }
    },
    {
      "cell_type": "code",
      "execution_count": null,
      "metadata": {
        "colab": {
          "base_uri": "https://localhost:8080/"
        },
        "id": "JPK1cupoeDUB",
        "outputId": "f5bd344a-0a5d-40a5-d351-efab5f54742f"
      },
      "outputs": [
        {
          "output_type": "stream",
          "name": "stdout",
          "text": [
            "Continue\n"
          ]
        }
      ],
      "source": [
        "water_level = 50\n",
        "if water_level > 80:\n",
        "  print(\"Drain Water\")\n",
        "else:\n",
        "  print(\"Continue\")"
      ]
    },
    {
      "cell_type": "markdown",
      "source": [
        "#Exercise 1\n",
        "Rollercoaster\n",
        "\n",
        "Conditional Statements:> greater than, < less than, >= greater than or equal to, <= less than or equal to, == equal to, != not equal to"
      ],
      "metadata": {
        "id": "jSzzHm3Qf1yU"
      }
    },
    {
      "cell_type": "code",
      "source": [
        "print(\"Welcome to the rollercoaster!\")\n",
        "\n",
        "height = int(input(\"What is your height in cm? \"))\n",
        "\n",
        "if height >= 120:\n",
        "  print(\"You can ride the rollercoaster!\")\n",
        "else:\n",
        "  print(\"You can't ride the rollercoaster!\")"
      ],
      "metadata": {
        "colab": {
          "base_uri": "https://localhost:8080/"
        },
        "id": "i7nEygPpf8Xu",
        "outputId": "03cea3d8-b290-45f8-bf3f-bd897324f6a5"
      },
      "execution_count": null,
      "outputs": [
        {
          "output_type": "stream",
          "name": "stdout",
          "text": [
            "Welcome to the rollercoaster!\n",
            "What is your height in cm? 122\n",
            "You can ride the rollercoaster!\n"
          ]
        }
      ]
    },
    {
      "cell_type": "markdown",
      "source": [
        "#Exercise 2\n",
        "Odd or Even?"
      ],
      "metadata": {
        "id": "tFZn-3Slistr"
      }
    },
    {
      "cell_type": "code",
      "source": [
        "x = int(input(\"Enter a number: \"))\n",
        "\n",
        "if x % 2 ==0:\n",
        "  print(\"Even\")\n",
        "else:\n",
        "  print(\"Odd\")"
      ],
      "metadata": {
        "colab": {
          "base_uri": "https://localhost:8080/"
        },
        "id": "2nv0OUpBi1lP",
        "outputId": "92da5107-9d00-4968-f577-897f8683871d"
      },
      "execution_count": null,
      "outputs": [
        {
          "output_type": "stream",
          "name": "stdout",
          "text": [
            "Enter a number: 2\n",
            "Even\n"
          ]
        }
      ]
    },
    {
      "cell_type": "markdown",
      "source": [
        "#Nested if/else"
      ],
      "metadata": {
        "id": "XGR0-LUxnROp"
      }
    },
    {
      "cell_type": "code",
      "source": [
        "print(\"Welcome to the rollercoaster!\")\n",
        "\n",
        "height = int(input(\"What is your height in cm? \"))\n",
        "\n",
        "if height >= 120:\n",
        "  print(\"You can ride the rollercoaster!\")\n",
        "  age = int(input(\"What's your age? \"))\n",
        "  if age < 12:\n",
        "    print(\"Please pay $5.\")\n",
        "  elif age < 18:\n",
        "    print(\"Please pay $7.\")\n",
        "  else:\n",
        "    print(\"Please pay $12.\")   \n",
        "else:\n",
        "  print(\"You can't ride the rollercoaster!\")"
      ],
      "metadata": {
        "colab": {
          "base_uri": "https://localhost:8080/"
        },
        "id": "XP4KRN0VnWh1",
        "outputId": "bac6b42d-b64d-41f8-d480-541523b18516"
      },
      "execution_count": null,
      "outputs": [
        {
          "output_type": "stream",
          "name": "stdout",
          "text": [
            "Welcome to the rollercoaster!\n",
            "What is your height in cm? 122\n",
            "You can ride the rollercoaster!\n",
            "What's your age? 18\n",
            "Please pay $12.\n"
          ]
        }
      ]
    },
    {
      "cell_type": "markdown",
      "source": [
        "#Exercise 3\n",
        "BMI Calculator"
      ],
      "metadata": {
        "id": "A7-l47VOqesx"
      }
    },
    {
      "cell_type": "code",
      "source": [
        "print(\"welcome to BMI calculator!\")\n",
        "\n",
        "h = float(input(\"Enter your height in m: \"))\n",
        "w = float(input(\"Eneter your weight in kg: \"))\n",
        "\n",
        "bmi = round(w / h**2, 2)\n",
        "print(f\"Your BMI is {bmi}\")\n",
        "\n",
        "if bmi < 18.5:\n",
        "  print(\"You are underweight.\")\n",
        "elif bmi <= 25:\n",
        "  print(\"Your weight is normal.\")\n",
        "elif bmi <= 30:\n",
        "  print(\"You are overweight.\")\n",
        "elif bmi <= 35:\n",
        "  print(\"Your are obese.\")\n",
        "else:\n",
        "  print(\"You are clinically obese.\")"
      ],
      "metadata": {
        "colab": {
          "base_uri": "https://localhost:8080/"
        },
        "id": "cCZyP9P0qqmh",
        "outputId": "36e0df30-0dc7-4f54-fb1b-08affc8e2deb"
      },
      "execution_count": null,
      "outputs": [
        {
          "output_type": "stream",
          "name": "stdout",
          "text": [
            "welcome to BMI calculator!\n",
            "Enter your height in m: 1.7\n",
            "Eneter your weight in kg: 95\n",
            "Your BMI is 32.87\n",
            "Your are obese.\n"
          ]
        }
      ]
    },
    {
      "cell_type": "markdown",
      "source": [
        "#Exercise 4\n",
        "Leap Year"
      ],
      "metadata": {
        "id": "zn-I1NH4Rum6"
      }
    },
    {
      "cell_type": "code",
      "source": [
        "year = int(input(\"Enter the year: \"))\n",
        "\n",
        "if year % 4 == 0:\n",
        "  if year % 100 == 0:\n",
        "    if year % 400 ==0:\n",
        "      print(\"It's a leap year.\")\n",
        "    else:\n",
        "      print(\"It's not a leap year.\")\n",
        "  else:\n",
        "    print(\"It's a leap year.\")\n",
        "else:\n",
        "  print(\"It's not a leap year.\")"
      ],
      "metadata": {
        "colab": {
          "base_uri": "https://localhost:8080/"
        },
        "id": "YodSWno8R0_E",
        "outputId": "8df87dfe-871b-4c04-bfa9-b164343cc97a"
      },
      "execution_count": null,
      "outputs": [
        {
          "output_type": "stream",
          "name": "stdout",
          "text": [
            "Enter the year: 2000\n",
            "It's a leap year.\n"
          ]
        }
      ]
    },
    {
      "cell_type": "markdown",
      "source": [
        "#Multiple if Statements"
      ],
      "metadata": {
        "id": "EaxM41_YVuMc"
      }
    },
    {
      "cell_type": "code",
      "source": [
        "print(\"Welcome to the rollercoaster!\")\n",
        "\n",
        "height = int(input(\"What is your height in cm? \"))\n",
        "bill = 0\n",
        "\n",
        "if height >= 120:\n",
        "  print(\"You can ride the rollercoaster!\")\n",
        "  age = int(input(\"What's your age? \"))\n",
        "  if age < 12:\n",
        "    bill = 5\n",
        "    print(f\"Child tickets are ${bill}.\")\n",
        "  elif age < 18:\n",
        "    bill = 7\n",
        "    print(f\"Youth tickets are ${bill}.\")\n",
        "  else:\n",
        "    bill = 12\n",
        "    print(f\"Adult tickets are ${bill}.\")   \n",
        "\n",
        "  Photo = input(\"Do you want a photo taken? Y or N? \")\n",
        "  if Photo == \"Y\":\n",
        "    bill = bill + 3\n",
        "  \n",
        "  print(f\"Please pay ${bill}.\")\n",
        "\n",
        "else:\n",
        "  print(\"You can't ride the rollercoaster!\")"
      ],
      "metadata": {
        "colab": {
          "base_uri": "https://localhost:8080/"
        },
        "id": "fUWc2ej3VumU",
        "outputId": "1039f344-8189-4a0b-bfb3-e8f144917552"
      },
      "execution_count": null,
      "outputs": [
        {
          "output_type": "stream",
          "name": "stdout",
          "text": [
            "Welcome to the rollercoaster!\n",
            "What is your height in cm? 180\n",
            "You can ride the rollercoaster!\n",
            "What's your age? 21\n",
            "Adult tickets are $12.\n",
            "Do you want a photo taken? Y or N? Y\n",
            "Please pay $15\n"
          ]
        }
      ]
    },
    {
      "cell_type": "markdown",
      "source": [],
      "metadata": {
        "id": "jp3tTROo_tHa"
      }
    },
    {
      "cell_type": "markdown",
      "source": [
        "#Exercise5\n",
        "Pizza Delivery"
      ],
      "metadata": {
        "id": "SibRLLWo6BLR"
      }
    },
    {
      "cell_type": "code",
      "source": [
        "print(\"Welcome to Python Pizza Deliveries!\")\n",
        "size = input(\"What size pizza do you want? S, N or L? \")\n",
        "add_pepperoni = input(\"Do you want pepperoni? Y or N? \")\n",
        "extra_cheese = input(\"Do you want extra cheese? Y or N? \")\n",
        "\n",
        "bill = 0\n",
        "if size == \"S\":\n",
        "  bill = 15\n",
        "  if add_pepperoni == \"Y\":\n",
        "    bill = bill + 2\n",
        "elif size == \"N\":\n",
        "  bill = 20\n",
        "  if add_pepperoni == \"Y\":\n",
        "    bill = bill + 3\n",
        "else:\n",
        "  bill = 25\n",
        "  if add_pepperoni == \"Y\":\n",
        "    bill = bill + 3\n",
        "if extra_cheese == \"Y\":\n",
        "  bill = bill + 1\n",
        "\n",
        "print(f\"Please pay ${bill}\")"
      ],
      "metadata": {
        "colab": {
          "base_uri": "https://localhost:8080/"
        },
        "id": "BTWseiFN6M_y",
        "outputId": "ad040233-c93f-494f-c5eb-7a62e71ba23b"
      },
      "execution_count": null,
      "outputs": [
        {
          "output_type": "stream",
          "name": "stdout",
          "text": [
            "Welcome to Python Pizza Deliveries!\n",
            "What size pizza do you want? S, N or L? L\n",
            "Do you want pepperoni? Y or N? Y\n",
            "Do you want extra cheese? Y or N? N\n",
            "Please pay $28\n"
          ]
        }
      ]
    },
    {
      "cell_type": "markdown",
      "source": [
        "#Logical Operators\n",
        "and\n",
        "\n",
        "or\n",
        "\n",
        "not"
      ],
      "metadata": {
        "id": "hPHoDf_d-WjW"
      }
    },
    {
      "cell_type": "code",
      "source": [
        "print(\"Welcome to the rollercoaster!\")\n",
        "\n",
        "height = int(input(\"What is your height in cm? \"))\n",
        "bill = 0\n",
        "\n",
        "if height >= 120:\n",
        "  print(\"You can ride the rollercoaster!\")\n",
        "  age = int(input(\"What's your age? \"))\n",
        "  if age < 12:\n",
        "    bill = 5\n",
        "  elif age < 18:\n",
        "    bill = 7\n",
        "  elif age < 45 or age > 55:\n",
        "    bill = 12\n",
        "  else:\n",
        "    bill = 0   \n",
        "\n",
        "  Photo = input(\"Do you want a photo taken? Y or N? \")\n",
        "  if Photo == \"Y\":\n",
        "    bill = bill + 3\n",
        "  \n",
        "  print(f\"Please pay ${bill}.\")\n",
        "\n",
        "else:\n",
        "  print(\"You can't ride the rollercoaster!\")"
      ],
      "metadata": {
        "colab": {
          "base_uri": "https://localhost:8080/"
        },
        "id": "5WHHwQv3-cWa",
        "outputId": "a4875d71-4192-43cd-b821-9d1c03cc327c"
      },
      "execution_count": null,
      "outputs": [
        {
          "output_type": "stream",
          "name": "stdout",
          "text": [
            "Welcome to the rollercoaster!\n",
            "What is your height in cm? 180\n",
            "You can ride the rollercoaster!\n",
            "What's your age? 25\n",
            "Do you want a photo taken? Y or N? N\n",
            "Please pay $12.\n"
          ]
        }
      ]
    },
    {
      "cell_type": "markdown",
      "source": [
        "#Exercise 6\n",
        "Love Calculator"
      ],
      "metadata": {
        "id": "XGk0YtZBCZPq"
      }
    },
    {
      "cell_type": "code",
      "source": [
        "print(\"Welcome to Love Calculator!\")\n",
        "name1 = input(\"What is your name? \")\n",
        "name2 = input(\"What is their name? \")\n",
        "\n",
        "\n",
        "name = name1.lower() + name2.lower()\n",
        "\n",
        "first_digit = name.count(\"t\") + name.count(\"r\") + name.count(\"u\") + name.count(\"e\")\n",
        "second_digit = name.count(\"l\") + name.count(\"o\") + name.count(\"v\") + name.count(\"e\")\n",
        "\n",
        "love = int(f\"{first_digit}{second_digit}\")\n",
        "\n",
        "print(f\"Your love score is {love}.\")\n",
        "\n",
        "if love < 10 or love>90:\n",
        "  print(\"You go together like coke and mentos.\")\n",
        "elif 40 < love < 50:\n",
        "  print(\"You are alright together.\")"
      ],
      "metadata": {
        "colab": {
          "base_uri": "https://localhost:8080/"
        },
        "id": "-3Uh_lLlCfJ3",
        "outputId": "893a4550-d2b6-4e54-c261-dc03111f3883"
      },
      "execution_count": null,
      "outputs": [
        {
          "output_type": "stream",
          "name": "stdout",
          "text": [
            "Welcome to Love Calculator!\n",
            "What is your name? Ali Safamanesh\n",
            "What is their name? Mari Ghayouri\n",
            "Your love score is 43.\n",
            "You are alright together.\n"
          ]
        }
      ]
    },
    {
      "cell_type": "markdown",
      "source": [
        "#Exercise 7\n",
        "Treasure Island"
      ],
      "metadata": {
        "id": "rAOGnAr2LBFz"
      }
    },
    {
      "cell_type": "code",
      "source": [
        "print('''\n",
        "*******************************************************************************\n",
        "          |                   |                  |                     |\n",
        " _________|________________.=\"\"_;=.______________|_____________________|_______\n",
        "|                   |  ,-\"_,=\"\"     `\"=.|                  |\n",
        "|___________________|__\"=._o`\"-._        `\"=.______________|___________________\n",
        "          |                `\"=._o`\"=._      _`\"=._                     |\n",
        " _________|_____________________:=._o \"=._.\"_.-=\"'\"=.__________________|_______\n",
        "|                   |    __.--\" , ; `\"=._o.\" ,-\"\"\"-._ \".   |\n",
        "|___________________|_._\"  ,. .` ` `` ,  `\"-._\"-._   \". '__|___________________\n",
        "          |           |o`\"=._` , \"` `; .\". ,  \"-._\"-._; ;              |\n",
        " _________|___________| ;`-.o`\"=._; .\" ` '`.\"\\` . \"-._ /_______________|_______\n",
        "|                   | |o;    `\"-.o`\"=._``  '` \" ,__.--o;   |\n",
        "|___________________|_| ;     (#) `-.o `\"=.`_.--\"_o.-; ;___|___________________\n",
        "____/______/______/___|o;._    \"      `\".o|o_.--\"    ;o;____/______/______/____\n",
        "/______/______/______/_\"=._o--._        ; | ;        ; ;/______/______/______/_\n",
        "____/______/______/______/__\"=._o--._   ;o|o;     _._;o;____/______/______/____\n",
        "/______/______/______/______/____\"=._o._; | ;_.--\"o.--\"_/______/______/______/_\n",
        "____/______/______/______/______/_____\"=.o|o_.--\"\"___/______/______/______/____\n",
        "/______/______/______/______/______/______/______/______/______/______/[TomekK]\n",
        "*******************************************************************************\n",
        "''')\n",
        "print(\"Welcome to treasure Island, your mission is to find the trasure.\")\n",
        "\n",
        "direction = input(\"Which way do you want to go? \\\"Left\\\" or \\\"Right\\\"? \")\n",
        "direction = direction.lower()\n",
        "\n",
        "if (direction == \"left\"):\n",
        "  swim = input(\"You have reached a lake! There is an island in the middle of the lake. Do you want to swim or wait for a boat? \\\"Swim\\\" or \\\"Wait\\\"? \")\n",
        "  swim = swim.lower()\n",
        "  if (swim == \"wait\"):\n",
        "    door = input(\"You have arrived to the island. There are 3 doors infront of you. which one do you choose, \\\"red\\\", \\\"blue\\\" or \\\"yellow\\\"? \")\n",
        "    door = door.lower()\n",
        "    if (door == \"yellow\"):\n",
        "      print(\"Congratulations! You have found the treasure!\")\n",
        "    elif (door == \"red\"):\n",
        "      print(\"There is a dragon behind the door! Game Over!\")\n",
        "    elif (door == \"blue\"):\n",
        "      print(\"You enter a room full of beasts! Game Over!\")\n",
        "  elif (swim == \"swim\"):\n",
        "    print(\"You got attacked by a angry Shark! Game Over!\")\n",
        "elif (direction == \"right\"):\n",
        "  print(\"You fell into a hole! Game Over!\")"
      ],
      "metadata": {
        "colab": {
          "base_uri": "https://localhost:8080/"
        },
        "id": "hh3xm76ELIeX",
        "outputId": "5e993403-7052-4515-b526-733a16bab42b"
      },
      "execution_count": null,
      "outputs": [
        {
          "output_type": "stream",
          "name": "stdout",
          "text": [
            "\n",
            "*******************************************************************************\n",
            "          |                   |                  |                     |\n",
            " _________|________________.=\"\"_;=.______________|_____________________|_______\n",
            "|                   |  ,-\"_,=\"\"     `\"=.|                  |\n",
            "|___________________|__\"=._o`\"-._        `\"=.______________|___________________\n",
            "          |                `\"=._o`\"=._      _`\"=._                     |\n",
            " _________|_____________________:=._o \"=._.\"_.-=\"'\"=.__________________|_______\n",
            "|                   |    __.--\" , ; `\"=._o.\" ,-\"\"\"-._ \".   |\n",
            "|___________________|_._\"  ,. .` ` `` ,  `\"-._\"-._   \". '__|___________________\n",
            "          |           |o`\"=._` , \"` `; .\". ,  \"-._\"-._; ;              |\n",
            " _________|___________| ;`-.o`\"=._; .\" ` '`.\"\\` . \"-._ /_______________|_______\n",
            "|                   | |o;    `\"-.o`\"=._``  '` \" ,__.--o;   |\n",
            "|___________________|_| ;     (#) `-.o `\"=.`_.--\"_o.-; ;___|___________________\n",
            "____/______/______/___|o;._    \"      `\".o|o_.--\"    ;o;____/______/______/____\n",
            "/______/______/______/_\"=._o--._        ; | ;        ; ;/______/______/______/_\n",
            "____/______/______/______/__\"=._o--._   ;o|o;     _._;o;____/______/______/____\n",
            "/______/______/______/______/____\"=._o._; | ;_.--\"o.--\"_/______/______/______/_\n",
            "____/______/______/______/______/_____\"=.o|o_.--\"\"___/______/______/______/____\n",
            "/______/______/______/______/______/______/______/______/______/______/[TomekK]\n",
            "*******************************************************************************\n",
            "\n",
            "Welcome to treasure Island, your mission is to find the trasure.\n",
            "Which way do you want to go? Left or Right? left\n",
            "You have reached a lake! Do you want to swim or wait for a boat? Swim or Wait? wait\n",
            "There are 3 doors infront of you. which one do you choose, red, blue or yellow? yellow\n",
            "Congratulations! You have found the treasure!\n"
          ]
        }
      ]
    }
  ]
}