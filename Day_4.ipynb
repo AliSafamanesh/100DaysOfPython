{
  "cells": [
    {
      "cell_type": "markdown",
      "metadata": {
        "id": "view-in-github",
        "colab_type": "text"
      },
      "source": [
        "<a href=\"https://colab.research.google.com/github/AliSafamanesh/100DaysOfPython/blob/main/Day_4.ipynb\" target=\"_parent\"><img src=\"https://colab.research.google.com/assets/colab-badge.svg\" alt=\"Open In Colab\"/></a>"
      ]
    },
    {
      "cell_type": "markdown",
      "metadata": {
        "id": "wC0HlAwqagqK"
      },
      "source": [
        "#Day 4\n",
        "Randomisation and python lists"
      ]
    },
    {
      "cell_type": "markdown",
      "metadata": {
        "id": "TcLWJckTiLHj"
      },
      "source": [
        "#Randomisation"
      ]
    },
    {
      "cell_type": "code",
      "execution_count": null,
      "metadata": {
        "colab": {
          "base_uri": "https://localhost:8080/"
        },
        "id": "QwgIxOyGZ9-i",
        "outputId": "1847eb6f-b069-44e3-8b62-b5a04052b843"
      },
      "outputs": [
        {
          "output_type": "stream",
          "name": "stdout",
          "text": [
            "5\n",
            "9.038523327550399\n"
          ]
        }
      ],
      "source": [
        "import random\n",
        "\n",
        "random_integer = random.randint(1, 10)\n",
        "print(random_integer)\n",
        "\n",
        "random_float = random.random()\n",
        "random = random_float * 10\n",
        "\n",
        "print(random)"
      ]
    },
    {
      "cell_type": "markdown",
      "source": [
        "#Exercise 1\n",
        "coin toss program"
      ],
      "metadata": {
        "id": "sujVr_sEo35_"
      }
    },
    {
      "cell_type": "code",
      "source": [
        "print(\"Welcome to the coin toss program!\")\n",
        "\n",
        "import random\n",
        "result = random.randint(0,1)\n",
        "\n",
        "if result == 0:\n",
        "  print(\"The result is \\\"Heads\\\"\")\n",
        "else:\n",
        "  print(\"The result is \\\"Tails\\\"\")"
      ],
      "metadata": {
        "colab": {
          "base_uri": "https://localhost:8080/"
        },
        "id": "zE6UAp7ZpDgO",
        "outputId": "9cf7b895-eed3-4c56-d3f9-a12e33d19822"
      },
      "execution_count": null,
      "outputs": [
        {
          "output_type": "stream",
          "name": "stdout",
          "text": [
            "Welcome to the coin toss program!\n",
            "The result is \"Heads\"\n"
          ]
        }
      ]
    },
    {
      "cell_type": "markdown",
      "source": [
        "#Lists\n",
        "\n",
        "list = [item1, item2, item3 , ...]"
      ],
      "metadata": {
        "id": "ZYpshOvLrCvE"
      }
    },
    {
      "cell_type": "code",
      "source": [
        "states = [\"Delware\", \"Pennsylvania\", \"New Jersey\"]\n",
        "\n",
        "print(states[0])\n",
        "print(states[-1])\n",
        "\n",
        "states[2] = \"Georgia\"\n",
        "print(states[2])\n",
        "\n",
        "states.append(\"New Jersey\")\n",
        "print(states)\n",
        "\n",
        "states.extend([\"Vermont\", \"New York\"])\n",
        "print(states)"
      ],
      "metadata": {
        "colab": {
          "base_uri": "https://localhost:8080/"
        },
        "id": "JLoDUbBYrGKM",
        "outputId": "81334605-b76a-404a-9ace-816d76d3250a"
      },
      "execution_count": null,
      "outputs": [
        {
          "output_type": "stream",
          "name": "stdout",
          "text": [
            "Delware\n",
            "New Jersey\n",
            "Georgia\n",
            "['Delware', 'Pennsylvania', 'Georgia', 'New Jersey']\n",
            "['Delware', 'Pennsylvania', 'Georgia', 'New Jersey', 'Vermont', 'New York']\n"
          ]
        }
      ]
    },
    {
      "cell_type": "markdown",
      "source": [
        "#Execise 2\n",
        "Who's Paying?"
      ],
      "metadata": {
        "id": "cG1wPma6yflI"
      }
    },
    {
      "cell_type": "code",
      "source": [
        "names_string = input(\"give me the name of each person separated by a comma. \")\n",
        "names = names_string.split(\", \")\n",
        "\n",
        "import random\n",
        "\n",
        "size = len(names)\n",
        "index = random.randint(0, size-1)\n",
        "pay = names[index]\n",
        "\n",
        "print(pay + \" should pay the bill.\")"
      ],
      "metadata": {
        "colab": {
          "base_uri": "https://localhost:8080/"
        },
        "id": "4n2cupTRyns4",
        "outputId": "17f07700-290e-4673-e5df-7c8eaed19686"
      },
      "execution_count": null,
      "outputs": [
        {
          "output_type": "stream",
          "name": "stdout",
          "text": [
            "give me the name of each person separated by a comma. Ali, Mari\n",
            "Mari should pay the bill.\n"
          ]
        }
      ]
    },
    {
      "cell_type": "markdown",
      "source": [
        "#Exercise 3\n",
        "Treasure Map"
      ],
      "metadata": {
        "id": "7QQ9O75j5Axo"
      }
    },
    {
      "cell_type": "code",
      "source": [
        "from re import X\n",
        "row1 = [\"⬜\", \"⬜\", \"⬜\"]\n",
        "row2 = [\"⬜\", \"⬜\", \"⬜\"]\n",
        "row3 = [\"⬜\", \"⬜\", \"⬜\"]\n",
        "\n",
        "map = [row1 , row2, row3]\n",
        "print(f\"{row1}\\n{row2}\\n{row3}\")\n",
        "\n",
        "position = input(\"where do you want to put the treasure? colomn, row?\")\n",
        "index = position.split(\", \")\n",
        "colomn = int(index[0])\n",
        "row = int(index[1])\n",
        "\n",
        "map[row-1][colomn-1] = \"X\"\n",
        "\n",
        "print(f\"{row1}\\n{row2}\\n{row3}\")"
      ],
      "metadata": {
        "colab": {
          "base_uri": "https://localhost:8080/"
        },
        "id": "X_pIQcpo5HdW",
        "outputId": "2f5d08ce-a73c-43e5-a0d6-77f3281a8ab2"
      },
      "execution_count": null,
      "outputs": [
        {
          "output_type": "stream",
          "name": "stdout",
          "text": [
            "['⬜', '⬜', '⬜']\n",
            "['⬜', '⬜', '⬜']\n",
            "['⬜', '⬜', '⬜']\n",
            "where do you want to put the treasure? colomn, row?2, 3\n",
            "['⬜', '⬜', '⬜']\n",
            "['⬜', '⬜', '⬜']\n",
            "['⬜', 'X', '⬜']\n"
          ]
        }
      ]
    },
    {
      "cell_type": "markdown",
      "source": [
        "#Exercise 4\n",
        "Rock, Paper, scissors"
      ],
      "metadata": {
        "id": "JEAxsn_XBwUq"
      }
    },
    {
      "cell_type": "code",
      "source": [
        "import random\n",
        "\n",
        "rock = '''  \n",
        "    _______\n",
        "---'   ____)  \n",
        "      (_____)  \n",
        "      (_____)  \n",
        "      (____)\n",
        "---.__(___)  \n",
        "'''\n",
        "\n",
        "paper = '''  \n",
        "    _______\n",
        "---'   ____)____  \n",
        "          ______)  \n",
        "          _______)  \n",
        "         _______)\n",
        "---.__________)  \n",
        "'''\n",
        "\n",
        "scissors = '''  \n",
        "    _______\n",
        "---'   ____)____  \n",
        "          ______)  \n",
        "       __________)  \n",
        "      (____)\n",
        "---.__(___)  \n",
        "'''\n",
        "\n",
        "list = [rock, paper, scissors]\n",
        "\n",
        "choice = int(input(\"What do you choose? 0 for rock, 1 for paper or 2 for scissors\"))\n",
        "\n",
        "computer = random.randint(0,2)\n",
        "\n",
        "if choice >= 0 and choice < 3:\n",
        "  print(\"Your choice:\\n\" + list[choice])\n",
        "  print(\"Computer choice:\\n\" + list[computer])\n",
        "\n",
        "decider = choice - computer\n",
        "\n",
        "if choice >= 3 or choice < 0:\n",
        "  print(\"Invalid input, you lose!\")\n",
        "elif decider == 0:\n",
        "  print(\"It's a draw.\")\n",
        "elif decider == 1 or decider == -2:\n",
        "  print(\"You win!\")\n",
        "elif decider == 2 or decider == -1:\n",
        "  print(\"You lose\")"
      ],
      "metadata": {
        "colab": {
          "base_uri": "https://localhost:8080/"
        },
        "id": "xh_wRpIZB3jB",
        "outputId": "1e9904c4-5018-41e5-d742-d808989be3e1"
      },
      "execution_count": null,
      "outputs": [
        {
          "output_type": "stream",
          "name": "stdout",
          "text": [
            "What do you choose? 0 for rock, 1 for paper or 2 for scissors2\n",
            "Your choice:\n",
            "  \n",
            "    _______\n",
            "---'   ____)____  \n",
            "          ______)  \n",
            "       __________)  \n",
            "      (____)\n",
            "---.__(___)  \n",
            "\n",
            "Computer choice:\n",
            "  \n",
            "    _______\n",
            "---'   ____)____  \n",
            "          ______)  \n",
            "          _______)  \n",
            "         _______)\n",
            "---.__________)  \n",
            "\n",
            "You win!\n"
          ]
        }
      ]
    }
  ],
  "metadata": {
    "colab": {
      "provenance": [],
      "authorship_tag": "ABX9TyMVLnMNCwayXsfZFo5pIz6v",
      "include_colab_link": true
    },
    "kernelspec": {
      "display_name": "Python 3",
      "name": "python3"
    },
    "language_info": {
      "name": "python"
    }
  },
  "nbformat": 4,
  "nbformat_minor": 0
}