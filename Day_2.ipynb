{
  "nbformat": 4,
  "nbformat_minor": 0,
  "metadata": {
    "colab": {
      "provenance": [],
      "authorship_tag": "ABX9TyNMw9mSmgV68uVPUsayWwUv"
    },
    "kernelspec": {
      "name": "python3",
      "display_name": "Python 3"
    },
    "language_info": {
      "name": "python"
    }
  },
  "cells": [
    {
      "cell_type": "markdown",
      "source": [
        "#Day2\n",
        "Data types, Numbers, Opeartions, Type Conversion, f-Strings"
      ],
      "metadata": {
        "id": "9uH1yY4-p5Ok"
      }
    },
    {
      "cell_type": "markdown",
      "source": [
        "#Data Types"
      ],
      "metadata": {
        "id": "Ef7F9BfYq835"
      }
    },
    {
      "cell_type": "markdown",
      "source": [
        "#Strings\n",
        "Subscripting: count starts from 0"
      ],
      "metadata": {
        "id": "ShCc6wEzrbzt"
      }
    },
    {
      "cell_type": "code",
      "execution_count": null,
      "metadata": {
        "colab": {
          "base_uri": "https://localhost:8080/"
        },
        "id": "275sLRKipzeC",
        "outputId": "8784a521-64ec-49ec-e2b7-a9384f77f59c"
      },
      "outputs": [
        {
          "output_type": "stream",
          "name": "stdout",
          "text": [
            "o\n",
            "123258\n"
          ]
        }
      ],
      "source": [
        "x = \"Hello\"\n",
        "print(x[4])\n",
        "print(\"123\" + \"258\")"
      ]
    },
    {
      "cell_type": "markdown",
      "source": [
        "#Integer\n",
        "In order to declare an Integer, just write the number without anything else.\n",
        "You can use underscore for beter visulization"
      ],
      "metadata": {
        "id": "VSgCi7Ezszkn"
      }
    },
    {
      "cell_type": "code",
      "source": [
        "print(123+258)\n",
        "print(123_456)"
      ],
      "metadata": {
        "colab": {
          "base_uri": "https://localhost:8080/"
        },
        "id": "NFTDBHv0s2hT",
        "outputId": "1902bff8-d392-47ea-d7b6-b1dd15e4e2cf"
      },
      "execution_count": null,
      "outputs": [
        {
          "output_type": "stream",
          "name": "stdout",
          "text": [
            "381\n",
            "123456\n"
          ]
        }
      ]
    },
    {
      "cell_type": "markdown",
      "source": [
        "#Float\n",
        "The syntax is dot."
      ],
      "metadata": {
        "id": "Uz9nKswZt1Xy"
      }
    },
    {
      "cell_type": "code",
      "source": [
        "print(3.14)"
      ],
      "metadata": {
        "colab": {
          "base_uri": "https://localhost:8080/"
        },
        "id": "NL41nkaqt4Ur",
        "outputId": "7a85b18a-ebef-4e68-b264-ace1575f21b4"
      },
      "execution_count": null,
      "outputs": [
        {
          "output_type": "stream",
          "name": "stdout",
          "text": [
            "3.14\n"
          ]
        }
      ]
    },
    {
      "cell_type": "markdown",
      "source": [
        "#Boolean\n",
        "Just tow possible values: True(1) or False(0)"
      ],
      "metadata": {
        "id": "yJUMo9kXuIjv"
      }
    },
    {
      "cell_type": "markdown",
      "source": [
        "#Type\n",
        "The syntax is type(...)"
      ],
      "metadata": {
        "id": "xeMDCGnNvaaG"
      }
    },
    {
      "cell_type": "code",
      "source": [
        "num_char = len(input(\"What is your name?\"))\n",
        "print(num_char)\n",
        "type(num_char)"
      ],
      "metadata": {
        "colab": {
          "base_uri": "https://localhost:8080/"
        },
        "id": "308LGXjzuN3d",
        "outputId": "3be1f2de-cd92-430e-ee00-c71934c7d8b1"
      },
      "execution_count": null,
      "outputs": [
        {
          "output_type": "stream",
          "name": "stdout",
          "text": [
            "What is your name?Ali\n",
            "3\n"
          ]
        },
        {
          "output_type": "execute_result",
          "data": {
            "text/plain": [
              "int"
            ]
          },
          "metadata": {},
          "execution_count": 10
        }
      ]
    },
    {
      "cell_type": "markdown",
      "source": [
        "#Type Conversion\n",
        "str(converts to strings)\n",
        "float\n",
        "int"
      ],
      "metadata": {
        "id": "f62YzigxwSkJ"
      }
    },
    {
      "cell_type": "code",
      "source": [
        "num_char = len(input(\"What is your name?\"))\n",
        "new_num_char = str(num_char)\n",
        "print(\"Your name has \" + new_num_char + \" characters.\")"
      ],
      "metadata": {
        "colab": {
          "base_uri": "https://localhost:8080/"
        },
        "id": "soyJUC4jwXEr",
        "outputId": "4478c079-6c8b-4d55-b174-d98e8cd1920f"
      },
      "execution_count": null,
      "outputs": [
        {
          "output_type": "stream",
          "name": "stdout",
          "text": [
            "What is your name?Ali\n",
            "Your name has 3 characters.\n"
          ]
        }
      ]
    },
    {
      "cell_type": "code",
      "source": [
        "a = 123\n",
        "type(a)\n",
        "print(float(a))\n",
        "print(str(a))"
      ],
      "metadata": {
        "colab": {
          "base_uri": "https://localhost:8080/"
        },
        "id": "7ZLvXFaZxSKA",
        "outputId": "c0d4963a-c651-426e-f232-9dec63ee9dd4"
      },
      "execution_count": null,
      "outputs": [
        {
          "output_type": "stream",
          "name": "stdout",
          "text": [
            "123.0\n",
            "123\n"
          ]
        }
      ]
    },
    {
      "cell_type": "markdown",
      "source": [
        "#Exercise 1"
      ],
      "metadata": {
        "id": "nfdaHgxCyLH5"
      }
    },
    {
      "cell_type": "code",
      "source": [
        "x = input(\"Enter a 2-digit number: \")\n",
        "result = int(x[0]) + int(x[1])\n",
        "print(\"The result is: \" + str(result))"
      ],
      "metadata": {
        "colab": {
          "base_uri": "https://localhost:8080/"
        },
        "id": "E2v95spFyOqE",
        "outputId": "e7cb350b-3e5e-456b-9442-887dd5e37b11"
      },
      "execution_count": null,
      "outputs": [
        {
          "output_type": "stream",
          "name": "stdout",
          "text": [
            "Enter a 2-digit number: 25\n",
            "The result is: 7\n"
          ]
        }
      ]
    },
    {
      "cell_type": "markdown",
      "source": [
        "#Operators"
      ],
      "metadata": {
        "id": "fQW9Ni5t0yAa"
      }
    },
    {
      "cell_type": "code",
      "source": [
        "print(3 + 7)\n",
        "print(3 - 7)\n",
        "print(3 * 7)\n",
        "print(3 / 7)\n",
        "print(type(6 / 2))\n",
        "print(2**10)"
      ],
      "metadata": {
        "colab": {
          "base_uri": "https://localhost:8080/"
        },
        "id": "X2hXLl-n05zP",
        "outputId": "9543e16d-6bd0-421c-fede-f2cfb5cee135"
      },
      "execution_count": null,
      "outputs": [
        {
          "output_type": "stream",
          "name": "stdout",
          "text": [
            "10\n",
            "-4\n",
            "21\n",
            "0.42857142857142855\n",
            "<class 'float'>\n",
            "1024\n"
          ]
        }
      ]
    },
    {
      "cell_type": "markdown",
      "source": [
        "#Exercise 2"
      ],
      "metadata": {
        "id": "vB6ZTfR82tWq"
      }
    },
    {
      "cell_type": "code",
      "source": [
        "h = input(\"Enter your height in m: \")\n",
        "w = input(\"Enter your weight in kg: \")\n",
        "bmi = float(w) / float(h)**2\n",
        "bmi_int = int(bmi)\n",
        "print(\"Your BMI is: \" + str(bmi_int))"
      ],
      "metadata": {
        "colab": {
          "base_uri": "https://localhost:8080/"
        },
        "id": "klxljOfr21dD",
        "outputId": "66b98cf4-4e5d-41ca-a90a-9fc0ed2e8390"
      },
      "execution_count": null,
      "outputs": [
        {
          "output_type": "stream",
          "name": "stdout",
          "text": [
            "Enter your height in m: 1.75\n",
            "Enter your weight in kg: 60\n",
            "Your BMI is: 19\n"
          ]
        }
      ]
    },
    {
      "cell_type": "markdown",
      "source": [
        "#Round/Floor a number"
      ],
      "metadata": {
        "id": "4eSy9ut56f-I"
      }
    },
    {
      "cell_type": "code",
      "source": [
        "print(8 / 3)\n",
        "print(round(8 / 3))\n",
        "print(round(8 / 3, 2))\n",
        "print(8//3)"
      ],
      "metadata": {
        "colab": {
          "base_uri": "https://localhost:8080/"
        },
        "id": "XbrT-y-Q6nuH",
        "outputId": "7fe31921-50e3-444a-a7a6-7a54bd62718d"
      },
      "execution_count": null,
      "outputs": [
        {
          "output_type": "stream",
          "name": "stdout",
          "text": [
            "2.6666666666666665\n",
            "3\n",
            "2.67\n",
            "2\n"
          ]
        }
      ]
    },
    {
      "cell_type": "markdown",
      "source": [
        "#f-String"
      ],
      "metadata": {
        "id": "olbEUcUv8JML"
      }
    },
    {
      "cell_type": "code",
      "source": [
        "score = 19\n",
        "height = 1.8\n",
        "print(f\"Your score is {score}, your height is {height}\")"
      ],
      "metadata": {
        "colab": {
          "base_uri": "https://localhost:8080/"
        },
        "id": "cVs0ydeo8OrZ",
        "outputId": "6e7f3236-9166-465d-d15c-c4324b2f5661"
      },
      "execution_count": null,
      "outputs": [
        {
          "output_type": "stream",
          "name": "stdout",
          "text": [
            "Your score is 19, your height is 1.8\n"
          ]
        }
      ]
    },
    {
      "cell_type": "markdown",
      "source": [
        "#Exercise 3"
      ],
      "metadata": {
        "id": "14jCxbju_M9K"
      }
    },
    {
      "cell_type": "code",
      "source": [
        "age = input(\"Enter your current age\")\n",
        "\n",
        "year = 90 - int(age)\n",
        "month = year * 12\n",
        "week = year * 52\n",
        "day = year * 365\n",
        "\n",
        "print(f\"You have {year} years, {month} months, {week} weeks, {day} days left.\")"
      ],
      "metadata": {
        "colab": {
          "base_uri": "https://localhost:8080/"
        },
        "id": "ntAv1tlU_Qun",
        "outputId": "f7f7feea-999d-4fe1-ddcb-fc293a823a12"
      },
      "execution_count": null,
      "outputs": [
        {
          "output_type": "stream",
          "name": "stdout",
          "text": [
            "Enter your current age26\n",
            "You have 64 years, 768 months, 3328 weeks, 23360 days left\n"
          ]
        }
      ]
    },
    {
      "cell_type": "markdown",
      "source": [
        "#Exercise 4"
      ],
      "metadata": {
        "id": "a_Wv_9fEClKi"
      }
    },
    {
      "cell_type": "code",
      "source": [
        "print(\"Welcome to the tip calulator!\")\n",
        "total_bill = input(\"What was the total bill? $\")\n",
        "percentage_tip = input(\"What percentage tip would you like to give? 10, 12 or 15? \")\n",
        "number_of_people = input(\"How many people to split the bill? \")\n",
        "\n",
        "cost = float(total_bill) + (float(total_bill) * int(percentage_tip) / 100)\n",
        "share = cost / int(number_of_people)\n",
        "share_rounded = round(share, 2)\n",
        "\n",
        "print(f\"Each person should pay: ${share_rounded}\")\n"
      ],
      "metadata": {
        "colab": {
          "base_uri": "https://localhost:8080/"
        },
        "id": "isE0UeZ_CohF",
        "outputId": "16ee6079-0fc3-4259-f072-2115f6870c39"
      },
      "execution_count": null,
      "outputs": [
        {
          "output_type": "stream",
          "name": "stdout",
          "text": [
            "Welcome to the tip calulator!\n",
            "What was the total bill? $120.56\n",
            "What percentage tip would you like to give? 10, 12 or 15? 12\n",
            "How many people to split the bill? 7\n",
            "Each person should pay: $19.29\n"
          ]
        }
      ]
    }
  ]
}