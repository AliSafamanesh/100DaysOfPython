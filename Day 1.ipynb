{
  "nbformat": 4,
  "nbformat_minor": 0,
  "metadata": {
    "colab": {
      "provenance": [],
      "authorship_tag": "ABX9TyN4k/jT57YOLG2vGSAEuF9f"
    },
    "kernelspec": {
      "name": "python3",
      "display_name": "Python 3"
    },
    "language_info": {
      "name": "python"
    }
  },
  "cells": [
    {
      "cell_type": "markdown",
      "source": [
        "# Day 1\n",
        "Print, Input, Strings"
      ],
      "metadata": {
        "id": "_HGXxKOVsP--"
      }
    },
    {
      "cell_type": "markdown",
      "source": [
        "#Print Funtion\n",
        "Print a message onto the screen."
      ],
      "metadata": {
        "id": "bHZ4kdRaGAuz"
      }
    },
    {
      "cell_type": "code",
      "source": [
        "print(\"Hello World!\")"
      ],
      "metadata": {
        "colab": {
          "base_uri": "https://localhost:8080/"
        },
        "id": "EUNQYfMpidIL",
        "outputId": "2d937ccc-765e-40e7-d1f5-f6449f1f8f05"
      },
      "execution_count": null,
      "outputs": [
        {
          "output_type": "stream",
          "name": "stdout",
          "text": [
            "Hello World!\n"
          ]
        }
      ]
    },
    {
      "cell_type": "markdown",
      "source": [
        "# Exercise 1\n",
        "Printing some text."
      ],
      "metadata": {
        "id": "lkhhnMuvnQpt"
      }
    },
    {
      "cell_type": "code",
      "source": [
        "print(\"Day 1 - Python print function\")\n",
        "print(\"The function is declared like this:\")\n",
        "print(\"print(\\\"What to print\\\")\")"
      ],
      "metadata": {
        "colab": {
          "base_uri": "https://localhost:8080/"
        },
        "id": "w3xFZebynhqN",
        "outputId": "4353e349-36ac-438b-e302-c696ec3f4e23"
      },
      "execution_count": null,
      "outputs": [
        {
          "output_type": "stream",
          "name": "stdout",
          "text": [
            "Day 1 - Python print function\n",
            "The function is declared like this:\n",
            "print(\"What to print\")\n"
          ]
        }
      ]
    },
    {
      "cell_type": "markdown",
      "source": [
        "#New Line\n",
        "The syntax is \\n"
      ],
      "metadata": {
        "id": "_vyP1srdtPin"
      }
    },
    {
      "cell_type": "code",
      "source": [
        "print(\"Hello World!\\nHello World!\")"
      ],
      "metadata": {
        "colab": {
          "base_uri": "https://localhost:8080/"
        },
        "id": "aovy828StOka",
        "outputId": "8ee270cd-9a2c-42d6-9d5b-44f9a0c37298"
      },
      "execution_count": null,
      "outputs": [
        {
          "output_type": "stream",
          "name": "stdout",
          "text": [
            "Hello World!\n",
            "Hello World!\n"
          ]
        }
      ]
    },
    {
      "cell_type": "markdown",
      "source": [
        "#String Concatenation\n",
        "The syntax is +"
      ],
      "metadata": {
        "id": "4VoTiaEEuiD-"
      }
    },
    {
      "cell_type": "code",
      "source": [
        "print(\"Hello\" + \" \" + \"Ali\")"
      ],
      "metadata": {
        "colab": {
          "base_uri": "https://localhost:8080/"
        },
        "id": "YppGEyBXuWSL",
        "outputId": "305da403-7b8b-41b4-cffd-8d189b7955cd"
      },
      "execution_count": null,
      "outputs": [
        {
          "output_type": "stream",
          "name": "stdout",
          "text": [
            "Hello Ali\n"
          ]
        }
      ]
    },
    {
      "cell_type": "markdown",
      "source": [
        "#Input function"
      ],
      "metadata": {
        "id": "IJWsaEf-wgjf"
      }
    },
    {
      "cell_type": "code",
      "source": [
        "print(\"Hello\" + \" \" + input(\"What is your name? \") + \"!\")"
      ],
      "metadata": {
        "colab": {
          "base_uri": "https://localhost:8080/"
        },
        "id": "Gss2T0N8wmRs",
        "outputId": "8f008bbb-5794-4ba9-d9f3-fe0706bcf040"
      },
      "execution_count": null,
      "outputs": [
        {
          "output_type": "stream",
          "name": "stdout",
          "text": [
            "What is your name? Ali\n",
            "Hello Ali!\n"
          ]
        }
      ]
    },
    {
      "cell_type": "markdown",
      "source": [
        "#Exercise 3\n",
        "Write a Program that calculates number of characters in your name. "
      ],
      "metadata": {
        "id": "QoKv-GoU1Htn"
      }
    },
    {
      "cell_type": "code",
      "source": [
        "print(\"This program calculates the number of characters in your name.\")\n",
        "name = input(\"What is your name? \")\n",
        "length = len(name)\n",
        "print(\"Your name has \" + str(length) + \" Characters!\")"
      ],
      "metadata": {
        "colab": {
          "base_uri": "https://localhost:8080/"
        },
        "id": "eP_-hq3F1Lvq",
        "outputId": "b9850f1c-08f4-47ec-ff9e-5c6e35a5aaab"
      },
      "execution_count": null,
      "outputs": [
        {
          "output_type": "stream",
          "name": "stdout",
          "text": [
            "This program calculates the number of characters in your name.\n",
            "What is your name? Mari\n",
            "Your name has 4 Characters!\n"
          ]
        }
      ]
    },
    {
      "cell_type": "markdown",
      "source": [
        "#Exercise 4\n",
        "write a program that switches the values stored in the variables a & b."
      ],
      "metadata": {
        "id": "QMvExdBJ7sag"
      }
    },
    {
      "cell_type": "code",
      "source": [
        "a = input(\"a: \")\n",
        "b = input(\"b: \")\n",
        "\n",
        "c = a\n",
        "a = b\n",
        "b = c\n",
        "\n",
        "print(\"a = \" + a)\n",
        "print(\"b = \" + b)"
      ],
      "metadata": {
        "colab": {
          "base_uri": "https://localhost:8080/"
        },
        "id": "2taKNvd079c1",
        "outputId": "49568448-87d3-439b-e671-4f58bcffbf91"
      },
      "execution_count": null,
      "outputs": [
        {
          "output_type": "stream",
          "name": "stdout",
          "text": [
            "a: 2\n",
            "b: 200\n",
            "a = 200\n",
            "b = 2\n"
          ]
        }
      ]
    },
    {
      "cell_type": "markdown",
      "source": [
        "#Exercise 5\n",
        "Recommending a Band Name"
      ],
      "metadata": {
        "id": "qtaea5hB-62S"
      }
    },
    {
      "cell_type": "code",
      "source": [
        "print('This program recommends your rock band name!')\n",
        "\n",
        "city = input(\"What was the city which you grew up in?\\n\")\n",
        "pet = input(\"what was the name of your pet when you were a child?\\n\")\n",
        "\n",
        "print('Our recommendation for your rock band is: ' + city + ' ' + pet + 's' + '!')"
      ],
      "metadata": {
        "colab": {
          "base_uri": "https://localhost:8080/"
        },
        "id": "uIBSx3tn_Ltg",
        "outputId": "fc5a7916-5d5f-41ac-be50-a8308d39c08f"
      },
      "execution_count": null,
      "outputs": [
        {
          "output_type": "stream",
          "name": "stdout",
          "text": [
            "This program recommends your rock band name!\n",
            "What was the city which you grew up in?\n",
            "Gorgan\n",
            "what was the name of your pet when you were a child?\n",
            "Rabbit\n",
            "Our recommendation for your rock band is: Gorgan Rabbits!\n"
          ]
        }
      ]
    }
  ]
}